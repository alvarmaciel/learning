{
 "cells": [
  {
   "cell_type": "markdown",
   "id": "3e252d78-58dc-4616-a4a7-d1a725fcb68e",
   "metadata": {},
   "source": [
    "# Funciones de orden alto"
   ]
  },
  {
   "cell_type": "code",
   "execution_count": 1,
   "id": "af08909f-0365-454b-9adb-1705f2aea14b",
   "metadata": {},
   "outputs": [],
   "source": [
    "from dataclasses import dataclass\n",
    "@dataclass\n",
    "class User:\n",
    "    id: int\n",
    "    account_id: int\n",
    "    shareable_profile_image_thumb: str\n",
    "    "
   ]
  },
  {
   "cell_type": "code",
   "execution_count": 3,
   "id": "9d5727a3-1a1a-42aa-8d25-d9b332ac86e2",
   "metadata": {},
   "outputs": [
    {
     "ename": "NameError",
     "evalue": "name 'Callable' is not defined",
     "output_type": "error",
     "traceback": [
      "\u001b[0;31m---------------------------------------------------------------------------\u001b[0m",
      "\u001b[0;31mNameError\u001b[0m                                 Traceback (most recent call last)",
      "Cell \u001b[0;32mIn[3], line 10\u001b[0m\n\u001b[1;32m      7\u001b[0m \u001b[38;5;28;01mdef\u001b[39;00m \u001b[38;5;21mcreate_and_upload_profile_thumbnail\u001b[39m(user, key_name):\n\u001b[1;32m      8\u001b[0m     user\u001b[38;5;241m.\u001b[39mshareable_profile_image_thumb \u001b[38;5;241m=\u001b[39m \u001b[38;5;124m'\u001b[39m\u001b[38;5;124mhttps://thumbnail.cloudfront.net/\u001b[39m\u001b[38;5;124m'\u001b[39m \u001b[38;5;241m+\u001b[39m key_name\n\u001b[0;32m---> 10\u001b[0m \u001b[38;5;28;01mdef\u001b[39;00m \u001b[38;5;21mrecreate_thumbs\u001b[39m(check_diff_key_name: \u001b[43mCallable\u001b[49m[[whh_key_name, user], \u001b[38;5;28mbool\u001b[39m] , user\u001b[38;5;241m=\u001b[39m\u001b[38;5;28;01mNone\u001b[39;00m, whh_key_name\u001b[38;5;241m=\u001b[39m\u001b[38;5;28;01mNone\u001b[39;00m, fix\u001b[38;5;241m=\u001b[39m\u001b[38;5;28;01mFalse\u001b[39;00m,):\n\u001b[1;32m     12\u001b[0m     \u001b[38;5;28;01mif\u001b[39;00m whh_key_name:\n\u001b[1;32m     13\u001b[0m         whh_thumb \u001b[38;5;241m=\u001b[39m \u001b[38;5;124m'\u001b[39m\u001b[38;5;124mhttps://d2ncuau78u5vie.cloudfront.net/\u001b[39m\u001b[38;5;124m'\u001b[39m \u001b[38;5;241m+\u001b[39m whh_key_name\n",
      "\u001b[0;31mNameError\u001b[0m: name 'Callable' is not defined"
     ]
    }
   ],
   "source": [
    "def check_diff_key_name(whh_key_name, user):\n",
    "    core_key_name = \"\"\n",
    "    if user.shareable_profile_image_thumb:\n",
    "        core_key_name = user.shareable_profile_image_thumb.split(\"/\")[-1]\n",
    "    return core_key_name != whh_key_name\n",
    "\n",
    "def create_and_upload_profile_thumbnail(user, key_name):\n",
    "    user.shareable_profile_image_thumb = 'https://thumbnail.cloudfront.net/' + key_name\n",
    "\n",
    "def recreate_thumbs(check_diff_key_name: Callable[[whh_key_name, user], bool] , user=None, whh_key_name=None, fix=False,):\n",
    "    \n",
    "    if whh_key_name:\n",
    "        whh_thumb = 'https://d2ncuau78u5vie.cloudfront.net/' + whh_key_name\n",
    "    try:\n",
    "             \n",
    "        if not check_diff_key_name(whh_key_name, user) and not fix:\n",
    "            return\n",
    "        else:\n",
    "            create_and_upload_profile_thumbnail(user, key_name=whh_key_name)\n",
    "            thumbs_recreated = {\"user_id\":user.id, \"core_thumb\": user.shareable_profile_image_thumb, \"whh_thumb\": whh_thumb}\n",
    "            return thumbs_recreated\n",
    "    except Exception as exc:\n",
    "        return {\"user_id\":users_id, \"thumb\": exc, \"key_name\": whh_key_name }"
   ]
  },
  {
   "cell_type": "code",
   "execution_count": null,
   "id": "94efd2b0-234e-4eae-a573-bed7d50c88a0",
   "metadata": {},
   "outputs": [],
   "source": [
    "user=User(1, 1, \"un_keyname\")\n",
    "whh_key_name= \"otro_keyname\"\n",
    "thumb_creation=recreate_thumbs(user, whh_key_name, fix=True, check_diff_key_name)"
   ]
  }
 ],
 "metadata": {
  "kernelspec": {
   "display_name": "Python 3 (ipykernel)",
   "language": "python",
   "name": "python3"
  },
  "language_info": {
   "codemirror_mode": {
    "name": "ipython",
    "version": 3
   },
   "file_extension": ".py",
   "mimetype": "text/x-python",
   "name": "python",
   "nbconvert_exporter": "python",
   "pygments_lexer": "ipython3",
   "version": "3.11.0"
  }
 },
 "nbformat": 4,
 "nbformat_minor": 5
}
