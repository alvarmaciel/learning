{
 "cells": [
  {
   "cell_type": "markdown",
   "id": "88c3af57-ff88-409a-8391-49f523c80dbf",
   "metadata": {},
   "source": [
    "# Programación Python Tramo II－Comisión 21677\n",
    "## Entrada de datos"
   ]
  },
  {
   "cell_type": "code",
   "execution_count": 1,
   "id": "061b31aa-a3a7-477f-918d-7b82dadb5a88",
   "metadata": {
    "ExecuteTime": {
     "end_time": "2023-08-23T10:48:33.299849151Z",
     "start_time": "2023-08-23T10:48:28.691411958Z"
    }
   },
   "outputs": [
    {
     "name": "stdout",
     "output_type": "stream",
     "text": [
      "Bienvenide Alvar\n"
     ]
    }
   ],
   "source": [
    "\"\"\"\n",
    "Ejercicio 1\n",
    "Escribir un programa que permita que el usuario ingrese su nombre. \n",
    "El programa debe emitir una salida con un mensaje de bienvenida que incluya el nombre ingresado.\n",
    "\"\"\"\n",
    "name = input(\"ingrese su nombre: \")\n",
    "print(f\"Bienvenide {name}\")"
   ]
  },
  {
   "cell_type": "code",
   "execution_count": 1,
   "outputs": [
    {
     "name": "stdout",
     "output_type": "stream",
     "text": [
      "Hola, Toto. Tu edad es 100 años.\n"
     ]
    }
   ],
   "source": [
    "\"\"\"\n",
    "Ejercicio 2\n",
    "Escribir un programa que solicite al usuario su nombre y su edad, y luego muestre por pantalla un mensaje que \n",
    "diga\"Hola, [nombre]. Tu edad es [edad] años.\"\n",
    "\"\"\"\n",
    "name = input(\"ingrese su nombre: \")\n",
    "age = input(\"ingrese su edad: \")\n",
    "print(f\"Hola, {name}. Tu edad es {age} años.\")"
   ],
   "metadata": {
    "collapsed": false,
    "ExecuteTime": {
     "end_time": "2023-08-23T10:54:39.518317796Z",
     "start_time": "2023-08-23T10:54:31.541140244Z"
    }
   },
   "id": "4a7aeb9a50782a65"
  },
  {
   "cell_type": "code",
   "execution_count": 3,
   "outputs": [
    {
     "name": "stdout",
     "output_type": "stream",
     "text": [
      "Hola, Pepa. Dentro de 101 años tendrás 246 años\n"
     ]
    }
   ],
   "source": [
    "\"\"\"\n",
    "Ejercicio 3\n",
    "Escribir un programa que solicite al usuario su nombre y su edad, después pida una cantidad de años y muestre por \n",
    "pantalla un mensaje que indique cuántos años tendrá la persona después de sumarle a su edad la cantidad de años \n",
    "ingresada. El mensaje debe tener el siguiente formato: 'Hola, [nombre]. Dentro de [cantidad] años tendrás [edad + \n",
    "cantidad] años'\".\n",
    "\"\"\"\n",
    "name = input(\"ingrese su nombre: \")\n",
    "age = int(input(\"ingrese su edad: \"))\n",
    "years = int(input(\"ingrese una cantidad de años: \"))\n",
    "print(f\"Hola, {name}. Dentro de {years} años tendrás {age + years} años\")"
   ],
   "metadata": {
    "collapsed": false,
    "ExecuteTime": {
     "end_time": "2023-08-23T10:56:36.521093014Z",
     "start_time": "2023-08-23T10:56:25.734487397Z"
    }
   },
   "id": "b98ac8ee65c94154"
  },
  {
   "cell_type": "code",
   "execution_count": 4,
   "outputs": [
    {
     "name": "stdout",
     "output_type": "stream",
     "text": [
      "3 + 4 + 5 = 12\n"
     ]
    }
   ],
   "source": [
    "\"\"\"\n",
    "Ejercicio 4\n",
    "Escribir un programa que solicite al usuario ingresar tres numeros enteros.El programa debe mostrar por pantalla \n",
    "el resultado de sumar los tres numeros de la siguiente manera: \"[numero1] + [numero2] + [numero3] = [suma]\".\n",
    "\"\"\"\n",
    "num_1 = int(input(\"ingrese un numero: \"))\n",
    "num_2 = int(input(\"ingrese un numero: \"))\n",
    "num_3 = int(input(\"ingrese un numero: \"))\n",
    "print(f\"{num_1} + {num_2} + {num_3} = {num_1 + num_2 + num_3}\")\n",
    "    "
   ],
   "metadata": {
    "collapsed": false,
    "ExecuteTime": {
     "end_time": "2023-08-23T10:57:53.773436989Z",
     "start_time": "2023-08-23T10:57:50.580973811Z"
    }
   },
   "id": "2ea18fd4db136048"
  },
  {
   "cell_type": "code",
   "execution_count": 5,
   "outputs": [
    {
     "name": "stdout",
     "output_type": "stream",
     "text": [
      "Notas: 6 , 8 ==> promedio: 7.0\n"
     ]
    }
   ],
   "source": [
    "\"\"\"\n",
    "Ejercicio 5\n",
    "Escribir un programa que solicite al usuario ingresar dos notas de un alumno. El programa debe mostrar por \n",
    "pantalla el promedio de las notas de la siguiente manera: \"Notas: [nota1] , [nota2] ==> promedio: [(nota1+nota2)\n",
    "/2]\".\n",
    "\"\"\"\n",
    "nota_1 = int(input(\"ingrese una nota: \"))\n",
    "nota_2 = int(input(\"ingrese una nota: \"))\n",
    "print(f\"Notas: {nota_1} , {nota_2} ==> promedio: {(nota_1 + nota_2)/2}\")"
   ],
   "metadata": {
    "collapsed": false,
    "ExecuteTime": {
     "end_time": "2023-08-23T10:58:51.661309085Z",
     "start_time": "2023-08-23T10:58:48.232774566Z"
    }
   },
   "id": "d755e9ba3feef979"
  },
  {
   "cell_type": "code",
   "execution_count": 6,
   "outputs": [
    {
     "name": "stdout",
     "output_type": "stream",
     "text": [
      "Notas: 4 , 8 , 8 \n",
      "Promedio: 6.666666666666667\n"
     ]
    }
   ],
   "source": [
    "\"\"\"\n",
    "Ejercicio 6\n",
    "Escribir un programa que solicite al usuario ingresar tres notas de un alumno. El programa debe mostrar por \n",
    "pantalla las notas separadas por comas en un renglón y el promedio de las notas en el siguiente renglon.\n",
    "\"\"\"\n",
    "nota_1 = int(input(\"ingrese una nota: \"))\n",
    "nota_2 = int(input(\"ingrese una nota: \"))\n",
    "nota_3 = int(input(\"ingrese una nota: \"))\n",
    "print(f\"Notas: {nota_1} , {nota_2} , {nota_3} \\nPromedio: {(nota_1 + nota_2 + nota_3)/3}\")"
   ],
   "metadata": {
    "collapsed": false,
    "ExecuteTime": {
     "end_time": "2023-08-23T11:00:12.215604511Z",
     "start_time": "2023-08-23T11:00:08.059266129Z"
    }
   },
   "id": "5badcf72db517ddd"
  },
  {
   "cell_type": "code",
   "execution_count": 7,
   "outputs": [
    {
     "name": "stdout",
     "output_type": "stream",
     "text": [
      "100 \n",
      "1.0 \n",
      "100\n"
     ]
    }
   ],
   "source": [
    "\"\"\"\n",
    "Ejercicio 7\n",
    "Escribir un programa que permita ingresar un número entero. Debe mostrarse el número ingresado:\n",
    "\n",
    "a. Multiplicado por 10. (utilizar el operador *) a. Dividido por 10. (utilizar el operador /) a. Elevado al \n",
    "cuadrado. (utilizar el operador **)\n",
    "\n",
    "Cada resultado debe mostrarse en una línea distinta.\n",
    "\"\"\"\n",
    "num = int(input(\"ingrese un numero: \"))\n",
    "print(f\"{num * 10} \\n{num / 10} \\n{num ** 2}\")"
   ],
   "metadata": {
    "collapsed": false,
    "ExecuteTime": {
     "end_time": "2023-08-23T11:03:22.636604320Z",
     "start_time": "2023-08-23T11:03:20.717686203Z"
    }
   },
   "id": "ba088b8d4fa2eded"
  },
  {
   "cell_type": "code",
   "execution_count": 8,
   "outputs": [
    {
     "name": "stdout",
     "output_type": "stream",
     "text": [
      "El salario semanal es: 22000.0\n"
     ]
    }
   ],
   "source": [
    "\"\"\"\n",
    "Ejericio 8\n",
    "Escribir un programa que permita ingresar el valor monetario de una hora de trabajo y la cantidad de horas \n",
    "trabajadas por día, para calcular el salario semanal de un trabajador que trabaja todos los días hábiles y la \n",
    "mitad de las horas del día hábil los sábados, suponiendo que todas las horas tienen el mismo valor.\"\n",
    "\n",
    "Como pensarlo:\n",
    "\n",
    "    Pedir al usuario que ingrese el valor monetario de una hora de trabajo y almacenarlo en una variable valor_hora.\n",
    "\n",
    "    Pedir al usuario que ingrese la cantidad de horas trabajadas por día por el trabajador y almacenarla en una variable horas_trabajadas_por_dia.\n",
    "\n",
    "    Calcular el salario diario del trabajador multiplicando valor_hora por horas_trabajadas_por_dia.\n",
    "\n",
    "    Calcular el salario semanal del trabajador multiplicando el salario diario por la cantidad de días hábiles de la semana. Para esto, puedes utilizar la constante dias_habiles definida como 5.\n",
    "\n",
    "    Calcular la cantidad de horas trabajadas por el trabajador el sábado, que es la mitad de la cantidad de horas trabajadas por día hábil. Para esto, se puede utilizar la vaiable horas_sabado definida como horas_trabajadas_por_dia / 2.\n",
    "\n",
    "    Calcular el salario del trabajador por las horas trabajadas el sábado multiplicando valor_hora por horas_sabado.\n",
    "\n",
    "    Sumar el salario semanal con el salario del sábado para obtener el salario total semanal del trabajador.\n",
    "\n",
    "    Mostrar el resultado del salario semanal en la pantalla.\n",
    "\n",
    "\"\"\"\n",
    "valor_hora = int(input(\"ingrese el valor monetario de una hora de trabajo: \"))\n",
    "horas_trabajadas_por_dia = int(input(\"ingrese la cantidad de horas trabajadas por día: \"))\n",
    "salario_diario = valor_hora * horas_trabajadas_por_dia\n",
    "DIAS_HABILES = 5\n",
    "salario_semanal = salario_diario * DIAS_HABILES\n",
    "horas_sabado = horas_trabajadas_por_dia / 2\n",
    "salario_sabado = valor_hora * horas_sabado\n",
    "salario_total_semanal = salario_semanal + salario_sabado\n",
    "print(f\"El salario semanal es: {salario_total_semanal}\")"
   ],
   "metadata": {
    "collapsed": false,
    "ExecuteTime": {
     "end_time": "2023-08-23T11:05:55.595751392Z",
     "start_time": "2023-08-23T11:05:44.923437629Z"
    }
   },
   "id": "a3f2244fb78d83e"
  },
  {
   "cell_type": "code",
   "execution_count": 9,
   "outputs": [
    {
     "name": "stdout",
     "output_type": "stream",
     "text": [
      "num_1 = 4 \n",
      "num_2 = 7\n",
      "num_1 = 7 \n",
      "num_2 = 4\n"
     ]
    }
   ],
   "source": [
    "\"\"\"\n",
    "Ejericio 9\n",
    "Escribir un programa que permita ingresar valores del mismo tipo para las variables num1 y num2. Una vez cargadas, mostrar ambas variables por pantalla, intercambiá sus valores (que lo cargado en num1 quede en num2, y viceversa) y volvé a mostrarlas actualizadas.\n",
    "\n",
    "Como pensarlo:\n",
    "\n",
    "    Pedir al usuario que ingrese un valor para la variable num1.\n",
    "\n",
    "    Pedir al usuario que ingrese un valor para la variable num2.\n",
    "\n",
    "    Mostrar por pantalla el valor de las variables num1 y num2.\n",
    "\n",
    "    Intercambiar los valores de las variables num1 y num2.\n",
    "\n",
    "    Mostrar por pantalla el valor de las variables num1 y num2.\n",
    "\n",
    "\"\"\"\n",
    "num_1 = int(input(\"ingrese un numero: \"))\n",
    "num_2 = int(input(\"ingrese un numero: \"))\n",
    "print(f\"num_1 = {num_1} \\nnum_2 = {num_2}\")\n",
    "num_1 = num_1 + num_2\n",
    "num_2 = num_1 - num_2\n",
    "num_1 = num_1 - num_2\n",
    "print(f\"num_1 = {num_1} \\nnum_2 = {num_2}\")"
   ],
   "metadata": {
    "collapsed": false,
    "ExecuteTime": {
     "end_time": "2023-08-23T11:08:33.910293619Z",
     "start_time": "2023-08-23T11:08:30.357825276Z"
    }
   },
   "id": "189317a3130b7db8"
  },
  {
   "cell_type": "code",
   "execution_count": 10,
   "outputs": [
    {
     "name": "stdout",
     "output_type": "stream",
     "text": [
      "El porcentaje de inversión de la persona 1 es: 32.26%\n",
      "El porcentaje de inversión de la persona 2 es: 64.52%\n",
      "El porcentaje de inversión de la persona 3 es: 3.23%\n"
     ]
    }
   ],
   "source": [
    "\"\"\"\n",
    "Ejericio 10\n",
    "Escribir un programa para resolver el siguiente problema:\n",
    "\n",
    "Tres personas invierten dinero para fundar una empresa (no necesariamente en partes iguales). Calcular qué porcentaje invirtió cada una.\n",
    "Como pensarlo:\n",
    "\n",
    "1. Solicitar al usuario que ingrese las cantidades invertidas por cada persona en tres variables numéricas.\n",
    "2. Calcular el total de la inversión sumando las cantidades de las tres personas.\n",
    "3. Calcular el porcentaje que representa la inversión de cada persona en relación al total de la inversión.\n",
    "  - Dividir la cantidad invertida por cada persona entre el total de la inversión y multiplicar por 100 para obtener  el porcentaje. Almacenar el resultado en una variable correspondiente a cada persona. Opcionalmente, se puede redondear el resultado a un número determinado de decimales utilizando la función round().\n",
    "4. Mostrar por pantalla el porcentaje de inversión de cada persona.\n",
    "\"\"\"\n",
    "persona_1 = int(input(\"ingrese la cantidad invertida por la persona 1: \"))\n",
    "persona_2 = int(input(\"ingrese la cantidad invertida por la persona 2: \"))\n",
    "persona_3 = int(input(\"ingrese la cantidad invertida por la persona 3: \"))\n",
    "total_inversion = persona_1 + persona_2 + persona_3\n",
    "porcentaje_persona_1 = round((persona_1 / total_inversion) * 100, 2)\n",
    "porcentaje_persona_2 = round((persona_2 / total_inversion) * 100, 2)\n",
    "porcentaje_persona_3 = round((persona_3 / total_inversion) * 100, 2)\n",
    "print(f\"El porcentaje de inversión de la persona 1 es: {porcentaje_persona_1}%\")\n",
    "print(f\"El porcentaje de inversión de la persona 2 es: {porcentaje_persona_2}%\")\n",
    "print(f\"El porcentaje de inversión de la persona 3 es: {porcentaje_persona_3}%\")"
   ],
   "metadata": {
    "collapsed": false,
    "ExecuteTime": {
     "end_time": "2023-08-23T11:12:03.520659766Z",
     "start_time": "2023-08-23T11:11:57.699367899Z"
    }
   },
   "id": "1d544fe72b2f5722"
  },
  {
   "cell_type": "code",
   "execution_count": 11,
   "outputs": [
    {
     "name": "stdout",
     "output_type": "stream",
     "text": [
      "El total aportado es: 310\n",
      "El porcentaje de inversión de la persona 1 es: 32.26%\n",
      "El porcentaje de inversión de la persona 2 es: 64.52%\n",
      "El porcentaje de inversión de la persona 3 es: 3.23%\n"
     ]
    }
   ],
   "source": [
    "\"\"\"\n",
    "Ejercicio 11\n",
    "Escribir un programa que permita resolver el siguiente problema:\n",
    "\n",
    "Tres personas aportan diferente capital a una sociedad y desean saber el valor total aportado y qué porcentaje aportó cada una (indicando nombre y porcentaje).\n",
    "\n",
    "Solicitar la carga por teclado del nombre de cada socio y su capital aportado, a partir de esto calcular e \n",
    "informar lo requerido previamente.\n",
    "\"\"\"\n",
    "persona_1 = input(\"ingrese el nombre de la persona 1: \")\n",
    "persona_2 = input(\"ingrese el nombre de la persona 2: \")\n",
    "persona_3 = input(\"ingrese el nombre de la persona 3: \")\n",
    "capital_persona_1 = int(input(\"ingrese el capital aportado por la persona 1: \"))\n",
    "capital_persona_2 = int(input(\"ingrese el capital aportado por la persona 2: \"))\n",
    "capital_persona_3 = int(input(\"ingrese el capital aportado por la persona 3: \"))\n",
    "total_capital = capital_persona_1 + capital_persona_2 + capital_persona_3\n",
    "porcentaje_persona_1 = round((capital_persona_1 / total_capital) * 100, 2)\n",
    "porcentaje_persona_2 = round((capital_persona_2 / total_capital) * 100, 2)\n",
    "porcentaje_persona_3 = round((capital_persona_3 / total_capital) * 100, 2)\n",
    "print(f\"El total aportado es: {total_capital}\")\n",
    "print(f\"El porcentaje de inversión de la persona 1 es: {porcentaje_persona_1}%\")\n",
    "print(f\"El porcentaje de inversión de la persona 2 es: {porcentaje_persona_2}%\")\n",
    "print(f\"El porcentaje de inversión de la persona 3 es: {porcentaje_persona_3}%\")\n"
   ],
   "metadata": {
    "collapsed": false,
    "ExecuteTime": {
     "end_time": "2023-08-23T11:16:28.916903500Z",
     "start_time": "2023-08-23T11:16:12.262171748Z"
    }
   },
   "id": "2ba950abf20fbc5b"
  },
  {
   "cell_type": "code",
   "execution_count": 12,
   "outputs": [
    {
     "name": "stdout",
     "output_type": "stream",
     "text": [
      "El valor en grados del angulo restante es: 96\n"
     ]
    }
   ],
   "source": [
    "\"\"\"\n",
    "Ejericio 12\n",
    "Escribir un programa en Python que solicite al usuario ingresar dos valores que representen las medidas en grados de dos ángulos interiores de un triángulo. Luego, calcular y mostrar por pantalla el valor en grados del ángulo restante.\n",
    "\n",
    "Es importante recordar que la suma de los ángulos interiores de todo triángulo es de 180 grados. Es decir, la suma de los ángulos internos de un triángulo siempre es igual a 180 grados. Por lo tanto, para calcular el ángulo restante es necesario restar la suma de los dos ángulos interiores ingresados al valor 180.\"\n",
    "\n",
    "Para pensar:\n",
    "\n",
    "    ¿Qué pasaría si se ingresan valores negativos como medidas de ángulos?\n",
    "    ¿Qué sucedería si la suma de los dos ángulos ingresados es mayor o igual a 180 grados?\n",
    "\n",
    "\"\"\"\n",
    "angulo_1 = int(input(\"ingrese el valor en grados del angulo 1: \"))\n",
    "angulo_2 = int(input(\"ingrese el valor en grados del angulo 2: \"))\n",
    "angulo_restante = 180 - (angulo_1 + angulo_2)\n",
    "print(f\"El valor en grados del angulo restante es: {angulo_restante}\")\n"
   ],
   "metadata": {
    "collapsed": false,
    "ExecuteTime": {
     "end_time": "2023-08-23T11:17:51.764582908Z",
     "start_time": "2023-08-23T11:17:47.624331556Z"
    }
   },
   "id": "419760eae230c4eb"
  },
  {
   "cell_type": "code",
   "execution_count": 13,
   "outputs": [
    {
     "name": "stdout",
     "output_type": "stream",
     "text": [
      "El importe a cobrar por el vendedor es: 200008.64\n"
     ]
    }
   ],
   "source": [
    "\"\"\"\n",
    "Ejericio 13\n",
    "Escribir un programa para calcular el importe a cobrar por un vendedor, considerando su sueldo fijo de $200000 pesos más el 16% del monto total de ventas realizadas durante un mes.\n",
    "Pensando los pasos para resolver el problema:\n",
    "\n",
    "1. Solicitar al usuario que ingrese el monto total de ventas realizadas por el vendedor durante el mes en una \n",
    "    variable correspondiente.\n",
    "2. Calcular el 16% del monto total de ventas realizadas y almacenar el resultado en una variable.\n",
    "3. Sumar el resultado del cálculo anterior al sueldo fijo del vendedor.\n",
    "4. Mostrar el importe a cobrar por el vendedor.\n",
    "\n",
    "Para pensar:\n",
    "\n",
    "¿Qué pasaría si se modificara el sueldo fijo del vendedor?\n",
    "\n",
    "Si se modifica el sueldo fijo del vendedor, entonces la fórmula utilizada para calcular el salario total debería ser actualizada para reflejar el nuevo sueldo fijo. En este caso, si el sueldo fijo aumenta, entonces el salario total también aumentaría. De igual manera, si el sueldo fijo disminuye, entonces el salario total también disminuiría. Es importante actualizar la fórmula en el programa para asegurarse de que el cálculo del salario total sea preciso y refleje el cambio en el importe a cobrar por del vendedor.\n",
    "\n",
    "¿Hay que modificar el programa cada vez? ¿Cómo lo soluciono?\n",
    "\"\"\"\n",
    "monto_ventas = int(input(\"ingrese el monto total de ventas realizadas por el vendedor durante el mes: \"))\n",
    "sueldo_fijo = 200000\n",
    "monto_ventas_16 = monto_ventas * 0.16\n",
    "importe_cobrar = sueldo_fijo + monto_ventas_16\n",
    "print(f\"El importe a cobrar por el vendedor es: {importe_cobrar}\")"
   ],
   "metadata": {
    "collapsed": false,
    "ExecuteTime": {
     "end_time": "2023-08-23T11:20:01.469881304Z",
     "start_time": "2023-08-23T11:19:56.585514921Z"
    }
   },
   "id": "1353f37059bd9e7"
  },
  {
   "cell_type": "code",
   "execution_count": 14,
   "outputs": [
    {
     "name": "stdout",
     "output_type": "stream",
     "text": [
      "El valor total del terreno es: 250000000\n",
      "La cantidad de metros de alambre necesarios para cercar el terreno a 1 metro de altura es: 200\n",
      "La cantidad de metros de alambre necesarios para cercar el terreno a 2 metros de altura es: 400\n",
      "La cantidad de metros de alambre necesarios para cercar el terreno a 3 metros de altura es: 600\n"
     ]
    }
   ],
   "source": [
    "\"\"\"\n",
    "Ejericio 14\n",
    "Escribir un programa que permita al usuario ingresar el ancho y largo de un terreno en metros, junto con el valor del metro cuadrado de tierra. El programa debe calcular y mostrar el valor total del terreno. Además, debe calcular la cantidad de metros de alambre necesarios para cercar completamente el terreno a tres alturas distintas.\n",
    "Pensando los pasos para resolver el problema:\n",
    "\n",
    "-Solicitar al usuario que ingrese el ancho del terreno en metros y almacenarlo en una variable. Solicitar al usuario que ingrese el largo del terreno en metros y almacenarlo en otra variable.\n",
    "-Solicitar al usuario que ingrese el valor del metro cuadrado de tierra y almacenarlo en otra variable. Calcular el valor total del terreno multiplicando el ancho por el largo y luego multiplicando el resultado por el valor del metro cuadrado de tierra.\n",
    "-Mostrar el valor total del terreno al usuario.\n",
    "-Calcular la cantidad de metros de alambre necesarios para cercar el terreno a tres alturas distintas. Por ejemplo, se puede calcular la cantidad de alambre necesaria para cercar a 1 metro de altura, a 2 metros de altura y a 3 metros de altura. Para hacerlo, se debe sumar el perímetro del terreno (2 veces el ancho más 2 veces el largo) y luego multiplicarlo por la cantidad de alturas. Mostrar la cantidad de metros de alambre necesarios para cercar el terreno a las tres alturas distintas al usuario.\n",
    "\"\"\"\n",
    "ancho_terreno = int(input(\"ingrese el ancho del terreno en metros: \"))\n",
    "largo_terreno = int(input(\"ingrese el largo del terreno en metros: \"))\n",
    "valor_metro_cuadrado = int(input(\"ingrese el valor del metro cuadrado de tierra: \"))\n",
    "valor_total_terreno = ancho_terreno * largo_terreno * valor_metro_cuadrado\n",
    "print(f\"El valor total del terreno es: {valor_total_terreno}\")\n",
    "perimetro_terreno = (2 * ancho_terreno) + (2 * largo_terreno)\n",
    "metros_alambre_1 = perimetro_terreno * 1\n",
    "metros_alambre_2 = perimetro_terreno * 2\n",
    "metros_alambre_3 = perimetro_terreno * 3\n",
    "print(f\"La cantidad de metros de alambre necesarios para cercar el terreno a 1 metro de altura es: {metros_alambre_1}\")\n",
    "print(f\"La cantidad de metros de alambre necesarios para cercar el terreno a 2 metros de altura es: {metros_alambre_2}\")\n",
    "print(f\"La cantidad de metros de alambre necesarios para cercar el terreno a 3 metros de altura es: {metros_alambre_3}\")"
   ],
   "metadata": {
    "collapsed": false,
    "ExecuteTime": {
     "end_time": "2023-08-23T11:22:48.208296059Z",
     "start_time": "2023-08-23T11:22:36.588376584Z"
    }
   },
   "id": "3b089cf21b8a6f52"
  },
  {
   "cell_type": "code",
   "execution_count": 15,
   "outputs": [
    {
     "name": "stdout",
     "output_type": "stream",
     "text": [
      "El salario total del vendedor Tes es: 300005.0\n"
     ]
    }
   ],
   "source": [
    "\"\"\"\n",
    "Ejericio 15\n",
    "Definición del problema: Una inmobiliaria paga a sus vendedores un salario base, más una comisión fija por cada venta realizada, más el 5% del valor de esas ventas. Realizar un programa que imprima el nombre del vendedor y el salario que le corresponde en un determinado mes.\n",
    "\n",
    "Se leen por teclado el nombre del vendedor, la cantidad de ventas que realizó y el valor total de las mismas.\n",
    "\n",
    "¿Sobran datos? ¿Qué datos sobran?\n",
    "\"\"\"\n",
    "nombre_vendedor = input(\"ingrese el nombre del vendedor: \")\n",
    "cantidad_ventas = int(input(\"ingrese la cantidad de ventas realizadas: \"))\n",
    "valor_total_ventas = int(input(\"ingrese el valor total de las ventas: \"))\n",
    "salario_base = 200000\n",
    "comision_fija = 100000\n",
    "comision_ventas = valor_total_ventas * 0.05\n",
    "salario_total = salario_base + comision_fija + comision_ventas\n",
    "print(f\"El salario total del vendedor {nombre_vendedor} es: {salario_total}\")"
   ],
   "metadata": {
    "collapsed": false,
    "ExecuteTime": {
     "end_time": "2023-08-23T11:24:50.573373528Z",
     "start_time": "2023-08-23T11:24:43.458492812Z"
    }
   },
   "id": "54c20fdaac5173ea"
  },
  {
   "cell_type": "code",
   "execution_count": 16,
   "outputs": [
    {
     "name": "stdout",
     "output_type": "stream",
     "text": [
      "2000515646 segundos equivalen a 23154 días, 2 horas, 47 minutos y 26 segundos\n"
     ]
    }
   ],
   "source": [
    "\"\"\"\n",
    "Ejericio 16\n",
    "Escribir un programa que permita al usuario ingresar un período de tiempo en segundos. Luego, el programa debe convertir ese período de tiempo a una forma más legible y comprensible para el usuario, expresando el resultado en días, horas, minutos y segundos. El resultado se mostrará en pantalla en un mensaje que indique la cantidad de segundos ingresados y su equivalente en días, horas, minutos y segundos.\n",
    "\n",
    "Ejemplo: 200000 segundos equivalen a 2 días, 7 horas, 33 minutos y 20 segundos. Usar en el programa las siguientes instrucciones:\n",
    "\"\"\"\n",
    "segundos = int(input(\"ingrese un período de tiempo en segundos: \"))\n",
    "dias = segundos // 86400\n",
    "horas = (segundos % 86400) // 3600\n",
    "minutos = ((segundos % 86400) % 3600) // 60\n",
    "segundos_restantes = segundos % 60\n",
    "print(f\"{segundos} segundos equivalen a {dias} días, {horas} horas, {minutos} minutos y {segundos_restantes} segundos\")"
   ],
   "metadata": {
    "collapsed": false,
    "ExecuteTime": {
     "end_time": "2023-08-23T11:26:52.837930377Z",
     "start_time": "2023-08-23T11:26:49.840360855Z"
    }
   },
   "id": "9c755c036c6aaded"
  },
  {
   "cell_type": "code",
   "execution_count": 2,
   "outputs": [
    {
     "name": "stdout",
     "output_type": "stream",
     "text": [
      "Para la cantidad de   12345 se necesitan:\n",
      "12 billetes de  1000\n",
      "1 billetes de  200\n",
      "1 billetes de  100\n",
      "0 billetes de  50\n",
      "4 billetes de  10\n",
      "1 billetes de  5\n",
      "0 billetes de  1\n"
     ]
    }
   ],
   "source": [
    "\"\"\"\n",
    "Ejericio 17\n",
    "¡Ayuda! Se me rompió el programa que convierte una cantidad de dinero en la cantidad mínima de billetes y monedas necesarios. Tengo todas las instrucciones necesarias, pero están todas mezcladas. ¿Podrías ayudarme a ordenarlas de manera correcta para que funcione el programa como debería? A lo mejor se me perdieron algunas instrucciones, ¿podrías agregarlas?\n",
    "resto = cantidad_total\n",
    "billetes_cien = resto // 100\n",
    "resto = resto % 100\n",
    "billetes_cinco = resto // 5\n",
    "billetes_mil = resto // 1000\n",
    "billetes_cincuenta = resto // 50\n",
    "billetes_doscientos = resto // 200\n",
    "billetes_diez = resto // 10\n",
    "billetes_docientos = resto // 200\n",
    "resto = resto % 10\n",
    "cantidad_total = int(input(\"Ingrese la cantidad de dinero a convertir: \"))\n",
    "billetes_uno = resto // 1\n",
    "print(\"Para la cantidad de  \",𝑐𝑎𝑛𝑡𝑖𝑑𝑎𝑑𝑡𝑜𝑡𝑎𝑙,\"𝑠𝑒𝑛𝑒𝑐𝑒𝑠𝑖𝑡𝑎𝑛:\")𝑝𝑟𝑖𝑛𝑡(𝑏𝑖𝑙𝑙𝑒𝑡𝑒𝑠𝑚𝑖𝑙,\"𝑏𝑖𝑙𝑙𝑒𝑡𝑒𝑠𝑑𝑒 1000\")\n",
    "print(billetes_doscientos, \"billetes de  200\")𝑝𝑟𝑖𝑛𝑡(𝑏𝑖𝑙𝑙𝑒𝑡𝑒𝑠𝑐𝑖𝑒𝑛,\"𝑏𝑖𝑙𝑙𝑒𝑡𝑒𝑠𝑑𝑒 100\")\n",
    "print(billetes_cincuenta, \"billetes de  50\")𝑝𝑟𝑖𝑛𝑡(𝑏𝑖𝑙𝑙𝑒𝑡𝑒𝑠𝑑𝑖𝑒𝑧,\"𝑏𝑖𝑙𝑙𝑒𝑡𝑒𝑠𝑑𝑒 10\")\n",
    "print(billetes_cinco, \"billetes de  5\")𝑝𝑟𝑖𝑛𝑡(𝑏𝑖𝑙𝑙𝑒𝑡𝑒𝑠𝑢𝑛𝑜,\"𝑏𝑖𝑙𝑙𝑒𝑡𝑒𝑠𝑑𝑒 1\")\n",
    "\"\"\"\n",
    "cantidad_total = int(input(\"Ingrese la cantidad de dinero a convertir: \"))\n",
    "resto = cantidad_total\n",
    "billetes_mil = resto // 1000\n",
    "resto = resto % 1000\n",
    "billetes_doscientos = resto // 200\n",
    "resto = resto % 200\n",
    "billetes_cien = resto // 100\n",
    "resto = resto % 100\n",
    "billetes_cincuenta = resto // 50\n",
    "resto = resto % 50\n",
    "billetes_diez = resto // 10\n",
    "resto = resto % 10\n",
    "billetes_cinco = resto // 5\n",
    "resto = resto % 5\n",
    "billetes_uno = resto // 1\n",
    "print(\"Para la cantidad de  \",cantidad_total,\"se necesitan:\")\n",
    "print(billetes_mil, \"billetes de  1000\")\n",
    "print(billetes_doscientos, \"billetes de  200\")\n",
    "print(billetes_cien, \"billetes de  100\")\n",
    "print(billetes_cincuenta, \"billetes de  50\")\n",
    "print(billetes_diez, \"billetes de  10\")\n",
    "print(billetes_cinco, \"billetes de  5\")\n",
    "print(billetes_uno, \"billetes de  1\")"
   ],
   "metadata": {
    "collapsed": false,
    "ExecuteTime": {
     "end_time": "2023-09-17T12:44:20.394178129Z",
     "start_time": "2023-09-17T12:44:16.128661662Z"
    }
   },
   "id": "b778c2d380d59658"
  },
  {
   "cell_type": "markdown",
   "source": [],
   "metadata": {
    "collapsed": false
   },
   "id": "54f528541f1100ed"
  },
  {
   "cell_type": "markdown",
   "source": [
    "### Ejercicio 18\n",
    "Escribir un programa que permita al usuario ingresar un número entero y luego muestre un mensaje indicando si el número es par o impar.\n",
    "\n",
    "Pensando los pasos para resolver el problema:\n",
    "\n",
    "    Pedir al usuario que ingrese un número entero.\n",
    "    Almacenar ese número en una variable.\n",
    "    Verificar si el número es par o impar.\n",
    "\n",
    "    Si el número es par, mostrar un mensaje indicando que es par.\n",
    "\n",
    "    Si el número es impar, mostrar un mensaje indicando que es impar.\n",
    "\n",
    "(Para verificar si un número es par o impar, se puede utilizar el operador módulo (%). Si el resto de la división del número por 2 es 0, entonces el número es par. Si el resto de la división del número por 2 es 1, entonces el número es impar.)"
   ],
   "metadata": {
    "collapsed": false
   },
   "id": "b7752b5592f5ceb7"
  },
  {
   "cell_type": "code",
   "execution_count": 4,
   "outputs": [
    {
     "name": "stdout",
     "output_type": "stream",
     "text": [
      "El numero es par\n"
     ]
    }
   ],
   "source": [
    "numero_entero = int(input(\"ingrese un numero entero: \"))\n",
    "if numero_entero % 2 == 0:\n",
    "    print(\"El numero es par\")\n",
    "else:\n",
    "    print(\"El numero es impar\")"
   ],
   "metadata": {
    "collapsed": false,
    "ExecuteTime": {
     "end_time": "2023-09-17T12:46:22.318038194Z",
     "start_time": "2023-09-17T12:46:20.421501100Z"
    }
   },
   "id": "4fd3f097854e4e84"
  },
  {
   "cell_type": "markdown",
   "source": [
    "### Ejercicio 19\n",
    "Escribir un programa que permita ingresar dos números enteros e indicar si son iguales o distintos."
   ],
   "metadata": {
    "collapsed": false
   },
   "id": "f4c75d8aa4e37379"
  },
  {
   "cell_type": "code",
   "execution_count": 5,
   "outputs": [
    {
     "name": "stdout",
     "output_type": "stream",
     "text": [
      "Los numeros son distintos\n"
     ]
    }
   ],
   "source": [
    "numero_1 = int(input(\"ingrese un numero entero: \"))\n",
    "numero_2 = int(input(\"ingrese un numero entero: \"))\n",
    "if numero_1 == numero_2:\n",
    "    print(\"Los numeros son iguales\")\n",
    "else:\n",
    "    print(\"Los numeros son distintos\")"
   ],
   "metadata": {
    "collapsed": false,
    "ExecuteTime": {
     "end_time": "2023-09-17T12:47:02.826675148Z",
     "start_time": "2023-09-17T12:47:00.596237255Z"
    }
   },
   "id": "bcafedd9328e32a8"
  },
  {
   "cell_type": "markdown",
   "source": [
    "### Ejercicio 20\n",
    "Escribir un programa que permita ingresar dos cadenas de caracteres e indicar si son iguales o distintas."
   ],
   "metadata": {
    "collapsed": false
   },
   "id": "7998a89cc0a6ab7b"
  },
  {
   "cell_type": "code",
   "execution_count": 6,
   "outputs": [
    {
     "name": "stdout",
     "output_type": "stream",
     "text": [
      "Las cadenas son distintas\n"
     ]
    }
   ],
   "source": [
    "cadena_1 = input(\"ingrese una cadena de caracteres: \")\n",
    "cadena_2 = input(\"ingrese una cadena de caracteres: \")\n",
    "if cadena_1 == cadena_2:\n",
    "    print(\"Las cadenas son iguales\")\n",
    "else:\n",
    "    print(\"Las cadenas son distintas\")"
   ],
   "metadata": {
    "collapsed": false,
    "ExecuteTime": {
     "end_time": "2023-09-17T12:47:40.320429179Z",
     "start_time": "2023-09-17T12:47:35.595040316Z"
    }
   },
   "id": "71b87ae944c56a4a"
  },
  {
   "cell_type": "markdown",
   "source": [
    "### Ejercicio 21\n",
    "Escribir un programa que permita ingresar dos números enteros e indicar si el primero es mayor, menor o igual al segundo."
   ],
   "metadata": {
    "collapsed": false
   },
   "id": "b846e03f2bd2fc5f"
  },
  {
   "cell_type": "code",
   "execution_count": 7,
   "outputs": [
    {
     "name": "stdout",
     "output_type": "stream",
     "text": [
      "Los numeros son iguales\n"
     ]
    }
   ],
   "source": [
    "numero_1 = int(input(\"ingrese un numero entero: \"))\n",
    "numero_2 = int(input(\"ingrese un numero entero: \"))\n",
    "if numero_1 > numero_2:\n",
    "    print(\"El primer numero es mayor al segundo\")\n",
    "elif numero_1 < numero_2:\n",
    "    print(\"El primer numero es menor al segundo\")\n",
    "else:\n",
    "    print(\"Los numeros son iguales\")"
   ],
   "metadata": {
    "collapsed": false,
    "ExecuteTime": {
     "end_time": "2023-09-17T12:48:15.680359436Z",
     "start_time": "2023-09-17T12:48:13.437523960Z"
    }
   },
   "id": "2f43ef0be5075df0"
  },
  {
   "cell_type": "markdown",
   "source": [
    "### Ejercicio 22\n",
    "Escribir un programa que permita ingresar tres números enteros e indicar cual es el mayor."
   ],
   "metadata": {
    "collapsed": false
   },
   "id": "3ae876f059958529"
  },
  {
   "cell_type": "code",
   "execution_count": 8,
   "outputs": [
    {
     "name": "stdout",
     "output_type": "stream",
     "text": [
      "El tercer numero es el mayor\n"
     ]
    }
   ],
   "source": [
    "numero_1 = int(input(\"ingrese un numero entero: \"))\n",
    "numero_2 = int(input(\"ingrese un numero entero: \"))\n",
    "numero_3 = int(input(\"ingrese un numero entero: \"))\n",
    "if numero_1 > numero_2 and numero_1 > numero_3:\n",
    "    print(\"El primer numero es el mayor\")\n",
    "elif numero_2 > numero_1 and numero_2 > numero_3:\n",
    "    print(\"El segundo numero es el mayor\")\n",
    "elif numero_3 > numero_1 and numero_3 > numero_2:\n",
    "    print(\"El tercer numero es el mayor\")\n",
    "else:\n",
    "    print(\"Los numeros son iguales\")"
   ],
   "metadata": {
    "collapsed": false,
    "ExecuteTime": {
     "end_time": "2023-09-17T12:49:16.093593972Z",
     "start_time": "2023-09-17T12:49:13.397645397Z"
    }
   },
   "id": "c1cfb907d5adb791"
  },
  {
   "cell_type": "markdown",
   "source": [
    "### Ejercicio 23\n",
    "Escribir un programa que permita ingresar tres números enteros y mostrar el mayor el menor y el valor que esta en medio.\n",
    "\n",
    "Ejemplo: Si se ingresan los números 5, 3 y 7, el programa debe mostrar el número 5 como el menor, el número 7 como el mayor y el número 3 como el que esta en medio.\n",
    "\n",
    "Otra vez se mezclaron las instrucciones, ¿podrías arreglarlas?\n",
    "```python\n",
    "numero_uno = int(input(\"Ingrese el primer número: \"))\n",
    "numero_dos = int(input(\"Ingrese el segundo número: \"))\n",
    "numero_tres = int(input(\"Ingrese el tercer número: \"))\n",
    "if medio < menor:\n",
    "auxiliar = medio\n",
    "medio = menor\n",
    "menor = auxiliar\n",
    "if numero_tres > mayor:\n",
    "mayor = numero_tres\n",
    "medio = numero_uno\n",
    "menor = numero_dos\n",
    "if numero_dos > mayor:\n",
    "mayor = numero_dos\n",
    "medio = numero_uno\n",
    "menor = numero_tres\n",
    "mayor = numero_uno\n",
    "medio = numero_dos\n",
    "menor = numero_tres\n",
    "print(\"El mayor es: \", mayor)\n",
    "print(\"El medio es: \", medio)\n",
    "print(\"El menor es: \", menor)\n",
    "```"
   ],
   "metadata": {
    "collapsed": false
   },
   "id": "d44f4cefdfa5b386"
  },
  {
   "cell_type": "code",
   "execution_count": 11,
   "outputs": [
    {
     "name": "stdout",
     "output_type": "stream",
     "text": [
      "El mayor es:  5\n",
      "El medio es:  2\n",
      "El menor es:  2\n"
     ]
    }
   ],
   "source": [
    "numero_uno = int(input(\"Ingrese el primer número: \"))\n",
    "numero_dos = int(input(\"Ingrese el segundo número: \"))\n",
    "numero_tres = int(input(\"Ingrese el tercer número: \"))\n",
    "mayor = numero_uno\n",
    "medio = numero_dos\n",
    "menor = numero_tres\n",
    "if medio < menor:\n",
    "    auxiliar = medio\n",
    "    medio = menor\n",
    "    menor = auxiliar\n",
    "if numero_tres > mayor:\n",
    "    mayor = numero_tres\n",
    "    medio = numero_uno\n",
    "    menor = numero_dos\n",
    "if numero_dos > mayor:\n",
    "    mayor = numero_dos\n",
    "    medio = numero_uno\n",
    "    menor = numero_tres\n",
    "print(\"El mayor es: \", mayor)\n",
    "print(\"El medio es: \", medio)\n",
    "print(\"El menor es: \", menor)"
   ],
   "metadata": {
    "collapsed": false,
    "ExecuteTime": {
     "end_time": "2023-09-17T13:01:39.909829107Z",
     "start_time": "2023-09-17T13:01:35.263074730Z"
    }
   },
   "id": "49070d6c4c5f099b"
  },
  {
   "cell_type": "markdown",
   "source": [],
   "metadata": {
    "collapsed": false
   },
   "id": "b20aac432dcc5ce8"
  },
  {
   "cell_type": "markdown",
   "source": [
    "### Ejercicio 24\n",
    "Para acceder a cierta atracción, es necesario cumplir con dos requisitos: tener al menos 10 años de edad y medir más de 1,60 metros.\n",
    "\n",
    "(Ojo, tener en cuenta las palabras: más,al menos y sobre todo la letra y)\n",
    "Escribir un programa en Python que solicite al usuario su edad y estatura, y que determine si cumple con los requisitos para subir a la atracción. Si cumple con ambos requisitos, el programa debe imprimir \"¡Puede acceder!\" en la pantalla. Si no cumple con alguno de los requisitos, el programa debe imprimir un mensaje que indique el motivo por el cual no puede subir. Por ejemplo, si no cumple con el requisito de la edad, el programa debe imprimir \"Lo siento, eres demasiado joven para acceder.\" Si no cumple con el requisito de la estatura, el programa debe imprimir \"Lo siento, eres demasiado bajo para acceder\"\n",
    "\n",
    "Los conectores lógicos \"and\" y \"or\" son operadores booleanos utilizados en programación y en lógica matemática para combinar o unir dos o más expresiones lógicas.\n",
    "\n",
    "El conector \"and\" se utiliza para combinar dos o más expresiones lógicas y evaluarlas en conjunto. La expresión completa es verdadera sólo si todas las expresiones individuales son verdaderas. Por ejemplo, la expresión lógica \"A and B\" será verdadera sólo si tanto A como B son verdaderos. Si alguna de las expresiones es falsa, la expresión completa será falsa.\n",
    "\n",
    "La tabla de verdad del operador \"and\" se utiliza en lógica proposicional para determinar el valor de verdad de una proposición compuesta formada por dos proposiciones simples unidas por \"and\". La tabla de verdad del \"and\" se construye evaluando todas las posibles combinaciones de valores de verdad de las proposiciones simples, y determinando el valor de verdad de la proposición compuesta para cada combinación.\n",
    "\n",
    "La tabla de verdad del \"and\" es la siguiente:\n",
    "P\tQ\tP and Q\n",
    "V\tV\tV\n",
    "V\tF\tF\n",
    "F\tV\tF\n",
    "F\tF\tF\n",
    "\n",
    "En resumen, el conector \"and\" se utiliza para crear expresiones lógicas que requieren que todas las condiciones sean verdaderas para que la expresión sea verdadera."
   ],
   "metadata": {
    "collapsed": false
   },
   "id": "ae7c57efe1ec48e5"
  },
  {
   "cell_type": "code",
   "execution_count": 13,
   "outputs": [
    {
     "name": "stdout",
     "output_type": "stream",
     "text": [
      "Puede acceder\n"
     ]
    }
   ],
   "source": [
    "edad = int(input(\"Ingrese su edad\"))\n",
    "altura = float(input(\"Ingrese su altura\"))\n",
    "if edad >= 10 and altura > 1.6:\n",
    "    print(\"Puede acceder\")\n",
    "else:\n",
    "    print(\"No puede acceder\")"
   ],
   "metadata": {
    "collapsed": false,
    "ExecuteTime": {
     "end_time": "2023-09-17T13:05:47.267737017Z",
     "start_time": "2023-09-17T13:05:41.643406654Z"
    }
   },
   "id": "e3a77f817d39b1b9"
  },
  {
   "cell_type": "markdown",
   "source": [
    "### Ejercicio 25\n",
    "Para acceder a cierta atracción, alcanza con que se cumpla solamente una de las siguientes condiciones: ser mayor de 6 años o medir más de 1,50 metros.\n",
    "\n",
    "Escribir un programa en Python que solicite al usuario su edad y estatura, y que determine si cumple con los requisitos para subir a la atracción. Si cumple con al menos una de las condiciones, el programa debe imprimir \"¡Puede acceder!\" en la pantalla. Si no cumple con ninguna de las condiciones, el programa debe imprimir un mensaje que lo indique."
   ],
   "metadata": {
    "collapsed": false
   },
   "id": "f16b710ab3cce47a"
  },
  {
   "cell_type": "code",
   "execution_count": 14,
   "outputs": [
    {
     "name": "stdout",
     "output_type": "stream",
     "text": [
      "No puede acceder\n"
     ]
    }
   ],
   "source": [
    "edad = int(input(\"Ingrese su edad\"))\n",
    "altura = float(input(\"Ingrese su altura\"))\n",
    "if edad >= 6 and altura > 1.5:\n",
    "    print(\"Puede acceder\")\n",
    "else:\n",
    "    print(\"No puede acceder\")"
   ],
   "metadata": {
    "collapsed": false,
    "ExecuteTime": {
     "end_time": "2023-09-17T13:07:46.418494729Z",
     "start_time": "2023-09-17T13:07:41.014940269Z"
    }
   },
   "id": "7d611b7bf5fae90a"
  },
  {
   "cell_type": "markdown",
   "source": [
    "### Ejercicio 26\n",
    "Escribir un programa que permita ingresar la cantidad de invitados a una fiesta y la cantidad de asientos disponibles en el salon. Debes indicar si alcanzan los asientos, Si los asientos no alcanzaran indicar cuántos faltan para que todos los invitados puedan sentarse."
   ],
   "metadata": {
    "collapsed": false
   },
   "id": "26a6a86f5ba58867"
  },
  {
   "cell_type": "code",
   "execution_count": 15,
   "outputs": [
    {
     "name": "stdout",
     "output_type": "stream",
     "text": [
      "Los asientos alcanzan\n"
     ]
    }
   ],
   "source": [
    "cantidad_de_invitados = int(input(\"Ingrese la cantidad de invitados\"))\n",
    "cantidad_de_asientos = int(input(\"Ingrese la cantidad de asientos\"))\n",
    "if cantidad_de_asientos > cantidad_de_invitados:\n",
    "    print(\"Los asientos alcanzan\")\n",
    "else:\n",
    "    print(\"los asientos no alcanzan\")"
   ],
   "metadata": {
    "collapsed": false,
    "ExecuteTime": {
     "end_time": "2023-09-17T13:11:36.828747148Z",
     "start_time": "2023-09-17T13:11:32.759255597Z"
    }
   },
   "id": "42dc1cf3c8eaca19"
  },
  {
   "cell_type": "markdown",
   "source": [
    "### Ejercicio 27\n",
    "Escribir un programa que permita ingresar una edad (entre 1 y 120 años), un género ('F'para mujeres, 'M' para hombres) y un nombre. En caso de haber ingresado valores erróneos (edad fuera de rango o género inválido), informar tal situación indicando el nombre de la persona. Si los datos están bien ingresados el programa debe indicar, sabiendo que las mujeres se jubilan con 60 años o más y los hombres con 65 años o más, si la persona está en edad de jubilarse."
   ],
   "metadata": {
    "collapsed": false
   },
   "id": "99e7aadd0de1807b"
  },
  {
   "cell_type": "code",
   "execution_count": null,
   "outputs": [],
   "source": [],
   "metadata": {
    "collapsed": false
   },
   "id": "8243e79078ab0cdb"
  }
 ],
 "metadata": {
  "kernelspec": {
   "display_name": "Python 3 (ipykernel)",
   "language": "python",
   "name": "python3"
  },
  "language_info": {
   "codemirror_mode": {
    "name": "ipython",
    "version": 3
   },
   "file_extension": ".py",
   "mimetype": "text/x-python",
   "name": "python",
   "nbconvert_exporter": "python",
   "pygments_lexer": "ipython3",
   "version": "3.11.2"
  }
 },
 "nbformat": 4,
 "nbformat_minor": 5
}
