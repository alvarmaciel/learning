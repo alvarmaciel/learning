import pandas as pd








valores_verdad = [(p) for p in [True, False]]

tablas_verdad = pd.DataFrame(valores_verdad, columns=['p'])
tablas_verdad['~p'] = ~tablas_verdad['p']
tablas_verdad['~(~p)'] = ~tablas_verdad['~p']
tablas_verdad['~(~p) <=> p'] = tablas_verdad.apply(lambda row: row['~(~p)'] == row['p'], axis=1)
tablas_verdad





# setup
valores_verdad = [(p, q) for p in [True, False] for q in [True, False]]
tablas_verdad = pd.DataFrame(valores_verdad, columns=['p', 'q'])

# columnas calculadas
tablas_verdad['p => q'] = tablas_verdad.apply(lambda row: not row['p'] or row['q'], axis=1)
tablas_verdad['~p'] = ~tablas_verdad['p']
tablas_verdad['(~p V q)'] = tablas_verdad.apply(lambda row: row['~p'] or row['q'], axis=1)
tablas_verdad['(p => q) <=> (~p V q)'] = tablas_verdad.apply(lambda row: row['p => q'] == row['(~p V q)'], axis=1)
tablas_verdad





valores_verdad = [(p,q) for p in [True, False] for q in [True, False]]

tabla_verdad = pd.DataFrame(valores_verdad, columns=['p', 'q'])
tabla_verdad['p v q'] = tabla_verdad.apply(lambda row: row['p'] or row['q'], axis=1)
tabla_verdad['~(p v q)'] = ~tabla_verdad['p v q']
tabla_verdad['-p'] = ~tabla_verdad['p']
tabla_verdad['(-p v q)'] = tabla_verdad.apply(lambda row: row['-p'] or row['q'], axis=1)
tabla_verdad['~(p v q) <=> (~p v q)'] = tabla_verdad.apply(lambda row: row['~(p v q)'] == row['(-p v q)'], axis=1)
tabla_verdad





valores_verdad = [(p,q,r) for p in [True, False] for q in [True, False] for r in [True, False]]

tabla_verdad = pd.DataFrame(valores_verdad, columns=['p','q','r'])

tabla_verdad['(p & q) & r'] = tabla_verdad.apply(lambda row: (row['p'] and row['q']) and row['r'], axis=1)
tabla_verdad['p & (q & r)'] = tabla_verdad.apply(lambda row: row['p'] and (row['q'] and row['r']), axis=1)
tabla_verdad['equivalencia'] = tabla_verdad.apply(lambda row: row['(p & q) & r'] == row['p & (q & r)'], axis=1)

tabla_verdad





valores_verdad = [(p,q,r) for p in [True, False] for q in [True, False] for r in [True, False]]

tabla_verdad = pd.DataFrame(valores_verdad, columns=('p','q', 'r'))

tabla_verdad['p =>(q V r)']=tabla_verdad.apply(lambda row: not row['p'] or (row['q'] or row['r']), axis=1)
tabla_verdad['(p & ~q) => r'] = tabla_verdad.apply(lambda row: not(row['p'] and not row['q']) or row['r'], axis=1)
tabla_verdad['equivalencia']= tabla_verdad['p =>(q V r)'] == tabla_verdad['(p & ~q) => r']

tabla_verdad






valores_verdad = [(p,q) for p in [True, False] for q in [True, False]]

tabla_verdad = pd.DataFrame(valores_verdad, columns=('p', 'q'))
tabla_verdad['~(p & q)'] = tabla_verdad.apply(lambda row: not(row['p'] and row['q']), axis=1)
tabla_verdad['(~p V ~q)'] = tabla_verdad.apply(lambda row: not row['p'] or not row['q'], axis=1)
tabla_verdad['equivalencia'] = tabla_verdad['~(p & q)'] == tabla_verdad['~(p & q)']
tabla_verdad





valores_verdad = [(p,q) for p in [True, False] for q in [True, False]]

tabla_verdad = pd.DataFrame(valores_verdad, columns=('p', 'q'))

tabla_verdad['~(p => q)'] = tabla_verdad.apply(lambda row: not(not row['p'] or row['q']), axis=1)
tabla_verdad['(p & ~q)'] = tabla_verdad.apply(lambda row: row['p'] and not row['q'], axis=1)
tabla_verdad['equivalencia']=tabla_verdad['~(p => q)'] == tabla_verdad['(p & ~q)']
tabla_verdad





valores_verdad = [(p,q) for p in [True, False] for q in [True, False]]

tabla_verdad = pd.DataFrame(valores_verdad, columns=('p', 'q'))
tabla_verdad['p <=> q'] =  tabla_verdad.apply(lambda row: row['p'] == row['q'], axis=1)
tabla_verdad['(p => q) & (q => p)'] = tabla_verdad.apply(lambda row: (not row['p'] or row['q']) and (not row['q'] or row['p']), axis =1)
tabla_verdad['equivalencia']=tabla_verdad['p <=> q'] == tabla_verdad['(p => q) & (q => p)']
tabla_verdad





valores_verdad = [(p,q,r) for p in [True, False] for q in [True, False] for r in [True, False]]

tabla_verdad = pd.DataFrame(valores_verdad, columns=('p','q', 'r'))
tabla_verdad['(p V q) V r'] = tabla_verdad.apply(lambda row: (row['p'] and row['q']) and row['r'], axis=1)
tabla_verdad['p V (q V r)'] = tabla_verdad.apply(lambda row: row['p'] and (row['q'] and row['r']), axis=1)
tabla_verdad['equivalencia']=tabla_verdad['(p V q) V r'] == tabla_verdad['p V (q V r)']

tabla_verdad



