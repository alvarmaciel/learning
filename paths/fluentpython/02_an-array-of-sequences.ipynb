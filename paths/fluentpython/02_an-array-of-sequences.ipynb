{
 "cells": [
  {
   "cell_type": "markdown",
   "id": "b3410487-935d-4484-a583-20ddd7ea9b7b",
   "metadata": {},
   "source": [
    "# An Array of Sequence\n",
    "Agrupamientos de seqencias:\n",
    "- Container Sequences :: Pueden contener items de distinto tipo, incluyendo containers anidados. Tienen referencias  los objetos, no el objeto en si mismo\n",
    "- Flat Sequences :: Contienen items de un único tipo. Contiene el valor en su propio espacio de memoria\n",
    "- Mutable sequence:\n",
    "- inmutable sequences\n"
   ]
  },
  {
   "cell_type": "markdown",
   "id": "2a191faf-4598-4cc4-a998-bba817467cdc",
   "metadata": {},
   "source": [
    "## Listcomps VS map and filters\n",
    "Listcomps hacen todo lo que `map` y `filter` hacen, pero sin tener que usar una funcion anónima."
   ]
  },
  {
   "cell_type": "code",
   "execution_count": 2,
   "id": "e1a08f36-f52d-48ea-9634-2d87f03b9e89",
   "metadata": {},
   "outputs": [
    {
     "data": {
      "text/plain": [
       "[162, 163, 165, 8364, 170]"
      ]
     },
     "execution_count": 2,
     "metadata": {},
     "output_type": "execute_result"
    }
   ],
   "source": [
    "symbols = '$¢£¥€ª'\n",
    "beyond_ascii = [ord(s) for s in symbols if ord(s) > 127]\n",
    "beyond_ascii\n"
   ]
  },
  {
   "cell_type": "code",
   "execution_count": 3,
   "id": "791e4c47-686c-4028-b08b-215885e2e718",
   "metadata": {},
   "outputs": [
    {
     "data": {
      "text/plain": [
       "[162, 163, 165, 8364, 170]"
      ]
     },
     "execution_count": 3,
     "metadata": {},
     "output_type": "execute_result"
    }
   ],
   "source": [
    "beyond_ascii = list(filter(lambda c: c > 127, map(ord, symbols)))\n",
    "beyond_ascii"
   ]
  },
  {
   "cell_type": "markdown",
   "id": "7b664e78-6131-41e3-b12b-5c3dd45cf9a0",
   "metadata": {},
   "source": [
    "## Generator Expressions\n",
    "Para inicializar tuplas, arays u otro tipo de secuencias, se pueden usar listcomps pero eso hace que se cree una lista que alimenta luego otro constructor, es mejor usar genexps. Que usan la misma sintaxis pero se encierra entre parentesis\n"
   ]
  },
  {
   "cell_type": "code",
   "execution_count": 4,
   "id": "cbb02868-6137-41ec-a217-74813bce03f5",
   "metadata": {},
   "outputs": [
    {
     "data": {
      "text/plain": [
       "(36, 162, 163, 165, 8364, 170)"
      ]
     },
     "execution_count": 4,
     "metadata": {},
     "output_type": "execute_result"
    }
   ],
   "source": [
    "tuple(ord(symbol) for symbol in symbols)"
   ]
  },
  {
   "cell_type": "markdown",
   "id": "a0194835-102b-47dc-a53d-87c4bac9e2ef",
   "metadata": {},
   "source": [
    "## Tuples are not just Imutable Lists\n",
    "- Claaaro como la Tupla no permite cambios de posición de los elementos, puede servir como record donde el índice es la key y la referencia es el valor!!!! osea, records sin nombre de campo\n",
    "## Tuples as records\n",
    "\n",
    "Las tuplas contienen registros: Cada item en la tupla tiene la data de un campo, y la posición del item le da su significante. Siendo el item mismo el significado \n",
    "### Tuples as records"
   ]
  },
  {
   "cell_type": "code",
   "execution_count": 7,
   "id": "6d2730aa-0407-4e1f-9bc8-c2e3a13a918e",
   "metadata": {},
   "outputs": [
    {
     "name": "stdout",
     "output_type": "stream",
     "text": [
      "BRA/CE342567\n",
      "ES/XDA205856\n",
      "USA/31195855\n",
      "USA\n",
      "BRA\n",
      "ES\n"
     ]
    }
   ],
   "source": [
    "lax_coordinates = (33.9425, -118.408056)\n",
    "city, year, pop, chg, area = ('Tokyo', 2024, 32_450, 0.66, 8014)\n",
    "travelers_id = [('USA', '31195855'), ('BRA', 'CE342567'), ('ES', 'XDA205856')]\n",
    "for passaport in sorted(travelers_id):\n",
    "    print('%s/%s' % passaport)\n",
    "for country, _ in travelers_id:\n",
    "    print(country)"
   ]
  },
  {
   "cell_type": "markdown",
   "id": "3d9e3ed2-0db6-453b-adcb-5e7e9ce3c537",
   "metadata": {},
   "source": [
    "# Tuples as Inmutable List"
   ]
  }
 ],
 "metadata": {
  "kernelspec": {
   "display_name": "Python 3 (ipykernel)",
   "language": "python",
   "name": "python3"
  },
  "language_info": {
   "codemirror_mode": {
    "name": "ipython",
    "version": 3
   },
   "file_extension": ".py",
   "mimetype": "text/x-python",
   "name": "python",
   "nbconvert_exporter": "python",
   "pygments_lexer": "ipython3",
   "version": "3.12.1"
  }
 },
 "nbformat": 4,
 "nbformat_minor": 5
}
