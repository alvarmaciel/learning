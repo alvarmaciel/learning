{
 "cells": [
  {
   "cell_type": "markdown",
   "id": "7d8b669c-ebf8-40c3-8817-aaee778b6f02",
   "metadata": {
    "tags": []
   },
   "source": [
    "# The Python Data Model\n",
    "\n",
    "- Es la API que usamos para hacer que nuestros objetos se relaciones correctamente con las características más idiomáticos del lenguaje\n",
    "- Podemos pensar al data model como una descripción de Phyton como Framework. Formaliza interfaces de los bloques fundantes del lenguaje en si.\n",
    "- Los elemento en los que se apalanca la creación de clases se denominan /dundermethods/ y son métodos especiales que Python invoca para realizar las operaciones básicas. \n",
    "- Esto tiene sentido sí solo sí considearamos que en Python TODO es un objeto. De esta forma, incluso la opacion más basica `1 + 1` es una operacion entre objetos. Estas interaccions son deplegadas por métodos especiales inherentes a los tipos de `1` y `+`\n",
    "- Entonces podemos crear clases que implenenten estos métodos especiales en los objetos\n",
    "## A pythonic Card Deck\n",
    "\n",
    "Donde se demuestra el poder de implentar solo dos métodos especiales  `__getitem__` y `__len__` ̣ \n",
    "\n",
    "Ejemplo 1-1. Un mazo como una secuencia de cartas"
   ]
  },
  {
   "cell_type": "code",
   "execution_count": 2,
   "id": "9e4e387c-2b3f-4213-8464-16773ca6cd8f",
   "metadata": {},
   "outputs": [],
   "source": [
    "import collections\n",
    "\n",
    "Card = collections.namedtuple('Card', ['rank', 'suit'])\n",
    "\n",
    "class FrenchDeck:\n",
    "    ranks = [str(n) for n in range(2, 11)] + list('JQKA')\n",
    "    suits = 'spades diamonds clubs hearts'.split()\n",
    "    \n",
    "    def __init__(self):\n",
    "        self._cards = [Card(rank, suit) for suit in self.suits\n",
    "                                        for rank in self.ranks]\n",
    "        \n",
    "    def __len__(self):\n",
    "        return len(self._cards)\n",
    "    \n",
    "    def __getitem__(self,position):\n",
    "        return self._cards[position]\n",
    "        "
   ]
  },
  {
   "cell_type": "markdown",
   "id": "bf194a94-209b-44f4-a085-d8e0815af77e",
   "metadata": {},
   "source": [
    "- Usamos `collections.namedtuple` pra contruir una clase simple que representa cartas indivduales.\n",
    "- `namedtuple` es útil pra construir objetos de clases que son solo un conjuto de atributos sin métodos. similar a un campo de una base de datos\n",
    "- por ejemplo un embutido"
   ]
  },
  {
   "cell_type": "code",
   "execution_count": 4,
   "id": "99d8aa53-9408-4575-a940-28ce0b9269ae",
   "metadata": {},
   "outputs": [],
   "source": [
    "Embutido = collections.namedtuple('Embutido',['tipo_de_carne','condimentos', 'tipo_de_envoltura']) "
   ]
  },
  {
   "cell_type": "code",
   "execution_count": 10,
   "id": "c0bcc1ec-5bc1-499b-b1e8-a6520a14d50e",
   "metadata": {},
   "outputs": [
    {
     "data": {
      "text/plain": [
       "Embutido(tipo_de_carne='cerdo', condimentos=['sal', 'pimienta', 'ají molido'], tipo_de_envoltura='tripa')"
      ]
     },
     "execution_count": 10,
     "metadata": {},
     "output_type": "execute_result"
    }
   ],
   "source": [
    "chorizo = Embutido('cerdo', ['sal', 'pimienta', 'ají molido'], 'tripa')\n",
    "chorizo"
   ]
  },
  {
   "cell_type": "code",
   "execution_count": 11,
   "id": "b5bfcce1-8d68-470e-a6cb-85d420d67afb",
   "metadata": {},
   "outputs": [
    {
     "data": {
      "text/plain": [
       "['sal', 'pimienta', 'ají molido']"
      ]
     },
     "execution_count": 11,
     "metadata": {},
     "output_type": "execute_result"
    }
   ],
   "source": [
    "chorizo.condimentos"
   ]
  },
  {
   "cell_type": "markdown",
   "id": "a9f814d4-5267-419c-92a2-4dfb10cb7c8c",
   "metadata": {},
   "source": [
    "El verdadero ejemplo seria una mazo de cartas francesas"
   ]
  },
  {
   "cell_type": "code",
   "execution_count": 12,
   "id": "a7ef6b13-d98f-485b-897d-d9affe70ba94",
   "metadata": {},
   "outputs": [],
   "source": [
    "deck = FrenchDeck()"
   ]
  },
  {
   "cell_type": "markdown",
   "id": "0a4d3c60-d59b-4fd7-9e80-131fd0b54c8f",
   "metadata": {},
   "source": [
    "en el cual al ser una collection, tiene implementado el la funcion `len()` que devuelve el número de cartas"
   ]
  },
  {
   "cell_type": "code",
   "execution_count": 13,
   "id": "de6bcf2f-2c57-4649-a905-1ad4344a00f6",
   "metadata": {},
   "outputs": [
    {
     "data": {
      "text/plain": [
       "52"
      ]
     },
     "execution_count": 13,
     "metadata": {},
     "output_type": "execute_result"
    }
   ],
   "source": [
    "len(deck)"
   ]
  },
  {
   "cell_type": "markdown",
   "id": "07d6632c-a70f-49e7-8a45-e4753d89561a",
   "metadata": {},
   "source": [
    "- podemos elegir alguna carta\n",
    "- o elegir una al azar usadno e método `random.choice` que forma parte de los onjetos tipo secuencia"
   ]
  },
  {
   "cell_type": "code",
   "execution_count": 14,
   "id": "0dc09363-4793-4567-a3cb-baf74aad692e",
   "metadata": {},
   "outputs": [
    {
     "data": {
      "text/plain": [
       "Card(rank='2', suit='spades')"
      ]
     },
     "execution_count": 14,
     "metadata": {},
     "output_type": "execute_result"
    }
   ],
   "source": [
    "deck[0]"
   ]
  },
  {
   "cell_type": "code",
   "execution_count": 15,
   "id": "5f1ceb74-266b-47a4-ad7d-101368c0b75b",
   "metadata": {},
   "outputs": [
    {
     "data": {
      "text/plain": [
       "Card(rank='A', suit='hearts')"
      ]
     },
     "execution_count": 15,
     "metadata": {},
     "output_type": "execute_result"
    }
   ],
   "source": [
    "deck[-1]"
   ]
  },
  {
   "cell_type": "code",
   "execution_count": 16,
   "id": "c9c05637-8460-42a0-a336-fdc83f5f78f1",
   "metadata": {},
   "outputs": [
    {
     "data": {
      "text/plain": [
       "Card(rank='3', suit='diamonds')"
      ]
     },
     "execution_count": 16,
     "metadata": {},
     "output_type": "execute_result"
    }
   ],
   "source": [
    "deck[14]"
   ]
  },
  {
   "cell_type": "code",
   "execution_count": 17,
   "id": "f79395d4-e53a-4b10-a6b7-c02ec541921b",
   "metadata": {},
   "outputs": [
    {
     "data": {
      "text/plain": [
       "Card(rank='5', suit='clubs')"
      ]
     },
     "execution_count": 17,
     "metadata": {},
     "output_type": "execute_result"
    }
   ],
   "source": [
    "from random import choice\n",
    "choice(deck)"
   ]
  },
  {
   "cell_type": "code",
   "execution_count": 18,
   "id": "a7287274-20af-40ca-9f1a-b892f676e488",
   "metadata": {},
   "outputs": [
    {
     "data": {
      "text/plain": [
       "Card(rank='Q', suit='clubs')"
      ]
     },
     "execution_count": 18,
     "metadata": {},
     "output_type": "execute_result"
    }
   ],
   "source": [
    "choice(deck)"
   ]
  },
  {
   "cell_type": "markdown",
   "id": "550b4520-df8f-4705-af38-3d26b6a1ca00",
   "metadata": {},
   "source": [
    "## Emulatng numeric types\n",
    "Emulaciøn de vectores bidimensionales, comportamiento de la suma\n",
    "```python\n",
    ">>> v1 = Vector(2,4)\n",
    ">>> v2 = Vector(2,1)\n",
    ">>> v1 + v2\n",
    "Vector(5, 5)\n",
    "```\n",
    "- Sobre el uso de Booleans\n",
    "```python\n",
    "def __bool__(self):\n",
    "        return bool(abs(self)) \n",
    "```\n",
    "Acá estoy implementando mim€todo bool para definir si una instancia de Vector es True cuando el valor absoluto no es 0, para eso llamamo a ``abs(self).__bool__()`` si es 0 da false\n",
    "    \n"
   ]
  },
  {
   "cell_type": "code",
   "execution_count": null,
   "id": "d1031cfe-0b91-473d-986f-280d70fd9d09",
   "metadata": {},
   "outputs": [],
   "source": []
  }
 ],
 "metadata": {
  "kernelspec": {
   "display_name": "Python 3 (ipykernel)",
   "language": "python",
   "name": "python3"
  },
  "language_info": {
   "codemirror_mode": {
    "name": "ipython",
    "version": 3
   },
   "file_extension": ".py",
   "mimetype": "text/x-python",
   "name": "python",
   "nbconvert_exporter": "python",
   "pygments_lexer": "ipython3",
   "version": "3.12.1"
  }
 },
 "nbformat": 4,
 "nbformat_minor": 5
}
