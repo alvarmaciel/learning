{
 "cells": [
  {
   "cell_type": "markdown",
   "id": "bafe61dd-134b-49d3-970b-db8c5eb80d47",
   "metadata": {},
   "source": [
    "# Vectores"
   ]
  },
  {
   "cell_type": "markdown",
   "id": "74ff89e9-3a39-4998-bde2-96af7e6c8b5b",
   "metadata": {},
   "source": [
    "## Conjuntos\n"
   ]
  }
 ],
 "metadata": {
  "kernelspec": {
   "display_name": "Python 3 (ipykernel)",
   "language": "python",
   "name": "python3"
  },
  "language_info": {
   "codemirror_mode": {
    "name": "ipython",
    "version": 3
   },
   "file_extension": ".py",
   "mimetype": "text/x-python",
   "name": "python",
   "nbconvert_exporter": "python",
   "pygments_lexer": "ipython3",
   "version": "3.11.2"
  }
 },
 "nbformat": 4,
 "nbformat_minor": 5
}
