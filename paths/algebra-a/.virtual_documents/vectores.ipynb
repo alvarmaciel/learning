import numpy as np
from PIL import Image
import matplotlib.pyplot as plt
def draw_plane_with_points(xlim=(-10, 10), ylim=(-10, 10), figsize=(8, 6), points=None):
    """
    Draw a Cartesian plane with 4 sectors, optionally plot provided points.
    
    Parameters:
    - xlim: tuple (xmin, xmax), x-axis limits
    - ylim: tuple (ymin, ymax), y-axis limits
    - figsize: tuple (width, height), size of the figure in inches
    - points: list of tuples, optional, points to be plotted on the plane
    
    Returns:
    - fig, ax: Figure and axis objects for further plotting or customization
    """
    fig, ax = plt.subplots(figsize=figsize)
    
    # Set the x and y axis limits
    ax.set_xlim(xlim)
    ax.set_ylim(ylim)
    
    # Draw the x and y axes
    ax.axhline(0, color='black', linewidth=0.5)
    ax.axvline(0, color='black', linewidth=0.5)
    
    # Add gridlines
    ax.grid(color='gray', linestyle='--', linewidth=0.5)
    
    
    # Setting number labels directly on the axes
    ax.set_xticks(np.arange(xlim[0], xlim[1]+1, (xlim[1]-xlim[0])/10))
    ax.set_yticks(np.arange(ylim[0], ylim[1]+1, (ylim[1]-ylim[0])/10))
    ax.xaxis.tick_center()  # x-axis labels at the bottom
    ax.yaxis.tick_left()    # y-axis labels on the left
    ax.spines['right'].set_color('none')  # Remove right spine
    ax.spines['top'].set_color('none')    # Remove top spine
    
    # Plot the points if provided
    if points:
        x_coords, y_coords = zip(*points)
        ax.scatter(x_coords, y_coords, color='red', marker='o', label='Provided Points')
        ax.legend()
    
    return fig, ax












# Test the function with some sample points
sample_points = [(2, 3), (-4, 5), (-3, -3), (4, -2)]
draw_plane_with_points(points=sample_points)
plt.title('Cartesian Plane with Sample Points')
plt.show()



